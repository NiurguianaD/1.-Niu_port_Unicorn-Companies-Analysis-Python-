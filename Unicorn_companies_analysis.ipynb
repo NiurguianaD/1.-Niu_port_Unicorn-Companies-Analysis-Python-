{
  "nbformat": 4,
  "nbformat_minor": 0,
  "metadata": {
    "colab": {
      "provenance": []
    },
    "kernelspec": {
      "name": "python3",
      "display_name": "Python 3"
    },
    "language_info": {
      "name": "python"
    }
  },
  "cells": [
    {
      "cell_type": "code",
      "execution_count": 1,
      "metadata": {
        "id": "a9sl5VtYFPz_"
      },
      "outputs": [],
      "source": [
        "import pandas as pd\n",
        "import numpy as np\n",
        "import plotly.express as px\n",
        "import plotly.graph_objects as go\n",
        "import matplotlib.pyplot as plt"
      ]
    },
    {
      "cell_type": "code",
      "source": [
        "data = pd.read_csv(\"Unicorn_Companies.csv\")"
      ],
      "metadata": {
        "id": "QTpxGTgAFVrQ"
      },
      "execution_count": 2,
      "outputs": []
    },
    {
      "cell_type": "code",
      "source": [
        "data.head(5)"
      ],
      "metadata": {
        "colab": {
          "base_uri": "https://localhost:8080/",
          "height": 206
        },
        "id": "yw-w3acMFmvG",
        "outputId": "7d94050d-4559-4964-9c60-452649767d09"
      },
      "execution_count": 3,
      "outputs": [
        {
          "output_type": "execute_result",
          "data": {
            "text/plain": [
              "     Company Valuation Date Joined                         Industry  \\\n",
              "0  Bytedance     $180B  2017-04-07          Artificial intelligence   \n",
              "1     SpaceX     $100B  2012-12-01                            Other   \n",
              "2      SHEIN     $100B  2018-07-03  E-commerce & direct-to-consumer   \n",
              "3     Stripe      $95B  2014-01-23                          Fintech   \n",
              "4     Klarna      $46B  2011-12-12                          Fintech   \n",
              "\n",
              "            City        Country      Continent  Year Founded Funding  \\\n",
              "0        Beijing          China           Asia          2012     $8B   \n",
              "1      Hawthorne  United States  North America          2002     $7B   \n",
              "2       Shenzhen          China           Asia          2008     $2B   \n",
              "3  San Francisco  United States  North America          2010     $2B   \n",
              "4      Stockholm         Sweden         Europe          2005     $4B   \n",
              "\n",
              "                                    Select Investors  \n",
              "0  Sequoia Capital China, SIG Asia Investments, S...  \n",
              "1  Founders Fund, Draper Fisher Jurvetson, Rothen...  \n",
              "2  Tiger Global Management, Sequoia Capital China...  \n",
              "3        Khosla Ventures, LowercaseCapital, capitalG  \n",
              "4  Institutional Venture Partners, Sequoia Capita...  "
            ],
            "text/html": [
              "\n",
              "  <div id=\"df-dbe60f51-b80a-4abf-8b9a-2c3f5c92cf1b\" class=\"colab-df-container\">\n",
              "    <div>\n",
              "<style scoped>\n",
              "    .dataframe tbody tr th:only-of-type {\n",
              "        vertical-align: middle;\n",
              "    }\n",
              "\n",
              "    .dataframe tbody tr th {\n",
              "        vertical-align: top;\n",
              "    }\n",
              "\n",
              "    .dataframe thead th {\n",
              "        text-align: right;\n",
              "    }\n",
              "</style>\n",
              "<table border=\"1\" class=\"dataframe\">\n",
              "  <thead>\n",
              "    <tr style=\"text-align: right;\">\n",
              "      <th></th>\n",
              "      <th>Company</th>\n",
              "      <th>Valuation</th>\n",
              "      <th>Date Joined</th>\n",
              "      <th>Industry</th>\n",
              "      <th>City</th>\n",
              "      <th>Country</th>\n",
              "      <th>Continent</th>\n",
              "      <th>Year Founded</th>\n",
              "      <th>Funding</th>\n",
              "      <th>Select Investors</th>\n",
              "    </tr>\n",
              "  </thead>\n",
              "  <tbody>\n",
              "    <tr>\n",
              "      <th>0</th>\n",
              "      <td>Bytedance</td>\n",
              "      <td>$180B</td>\n",
              "      <td>2017-04-07</td>\n",
              "      <td>Artificial intelligence</td>\n",
              "      <td>Beijing</td>\n",
              "      <td>China</td>\n",
              "      <td>Asia</td>\n",
              "      <td>2012</td>\n",
              "      <td>$8B</td>\n",
              "      <td>Sequoia Capital China, SIG Asia Investments, S...</td>\n",
              "    </tr>\n",
              "    <tr>\n",
              "      <th>1</th>\n",
              "      <td>SpaceX</td>\n",
              "      <td>$100B</td>\n",
              "      <td>2012-12-01</td>\n",
              "      <td>Other</td>\n",
              "      <td>Hawthorne</td>\n",
              "      <td>United States</td>\n",
              "      <td>North America</td>\n",
              "      <td>2002</td>\n",
              "      <td>$7B</td>\n",
              "      <td>Founders Fund, Draper Fisher Jurvetson, Rothen...</td>\n",
              "    </tr>\n",
              "    <tr>\n",
              "      <th>2</th>\n",
              "      <td>SHEIN</td>\n",
              "      <td>$100B</td>\n",
              "      <td>2018-07-03</td>\n",
              "      <td>E-commerce &amp; direct-to-consumer</td>\n",
              "      <td>Shenzhen</td>\n",
              "      <td>China</td>\n",
              "      <td>Asia</td>\n",
              "      <td>2008</td>\n",
              "      <td>$2B</td>\n",
              "      <td>Tiger Global Management, Sequoia Capital China...</td>\n",
              "    </tr>\n",
              "    <tr>\n",
              "      <th>3</th>\n",
              "      <td>Stripe</td>\n",
              "      <td>$95B</td>\n",
              "      <td>2014-01-23</td>\n",
              "      <td>Fintech</td>\n",
              "      <td>San Francisco</td>\n",
              "      <td>United States</td>\n",
              "      <td>North America</td>\n",
              "      <td>2010</td>\n",
              "      <td>$2B</td>\n",
              "      <td>Khosla Ventures, LowercaseCapital, capitalG</td>\n",
              "    </tr>\n",
              "    <tr>\n",
              "      <th>4</th>\n",
              "      <td>Klarna</td>\n",
              "      <td>$46B</td>\n",
              "      <td>2011-12-12</td>\n",
              "      <td>Fintech</td>\n",
              "      <td>Stockholm</td>\n",
              "      <td>Sweden</td>\n",
              "      <td>Europe</td>\n",
              "      <td>2005</td>\n",
              "      <td>$4B</td>\n",
              "      <td>Institutional Venture Partners, Sequoia Capita...</td>\n",
              "    </tr>\n",
              "  </tbody>\n",
              "</table>\n",
              "</div>\n",
              "    <div class=\"colab-df-buttons\">\n",
              "\n",
              "  <div class=\"colab-df-container\">\n",
              "    <button class=\"colab-df-convert\" onclick=\"convertToInteractive('df-dbe60f51-b80a-4abf-8b9a-2c3f5c92cf1b')\"\n",
              "            title=\"Convert this dataframe to an interactive table.\"\n",
              "            style=\"display:none;\">\n",
              "\n",
              "  <svg xmlns=\"http://www.w3.org/2000/svg\" height=\"24px\" viewBox=\"0 -960 960 960\">\n",
              "    <path d=\"M120-120v-720h720v720H120Zm60-500h600v-160H180v160Zm220 220h160v-160H400v160Zm0 220h160v-160H400v160ZM180-400h160v-160H180v160Zm440 0h160v-160H620v160ZM180-180h160v-160H180v160Zm440 0h160v-160H620v160Z\"/>\n",
              "  </svg>\n",
              "    </button>\n",
              "\n",
              "  <style>\n",
              "    .colab-df-container {\n",
              "      display:flex;\n",
              "      gap: 12px;\n",
              "    }\n",
              "\n",
              "    .colab-df-convert {\n",
              "      background-color: #E8F0FE;\n",
              "      border: none;\n",
              "      border-radius: 50%;\n",
              "      cursor: pointer;\n",
              "      display: none;\n",
              "      fill: #1967D2;\n",
              "      height: 32px;\n",
              "      padding: 0 0 0 0;\n",
              "      width: 32px;\n",
              "    }\n",
              "\n",
              "    .colab-df-convert:hover {\n",
              "      background-color: #E2EBFA;\n",
              "      box-shadow: 0px 1px 2px rgba(60, 64, 67, 0.3), 0px 1px 3px 1px rgba(60, 64, 67, 0.15);\n",
              "      fill: #174EA6;\n",
              "    }\n",
              "\n",
              "    .colab-df-buttons div {\n",
              "      margin-bottom: 4px;\n",
              "    }\n",
              "\n",
              "    [theme=dark] .colab-df-convert {\n",
              "      background-color: #3B4455;\n",
              "      fill: #D2E3FC;\n",
              "    }\n",
              "\n",
              "    [theme=dark] .colab-df-convert:hover {\n",
              "      background-color: #434B5C;\n",
              "      box-shadow: 0px 1px 3px 1px rgba(0, 0, 0, 0.15);\n",
              "      filter: drop-shadow(0px 1px 2px rgba(0, 0, 0, 0.3));\n",
              "      fill: #FFFFFF;\n",
              "    }\n",
              "  </style>\n",
              "\n",
              "    <script>\n",
              "      const buttonEl =\n",
              "        document.querySelector('#df-dbe60f51-b80a-4abf-8b9a-2c3f5c92cf1b button.colab-df-convert');\n",
              "      buttonEl.style.display =\n",
              "        google.colab.kernel.accessAllowed ? 'block' : 'none';\n",
              "\n",
              "      async function convertToInteractive(key) {\n",
              "        const element = document.querySelector('#df-dbe60f51-b80a-4abf-8b9a-2c3f5c92cf1b');\n",
              "        const dataTable =\n",
              "          await google.colab.kernel.invokeFunction('convertToInteractive',\n",
              "                                                    [key], {});\n",
              "        if (!dataTable) return;\n",
              "\n",
              "        const docLinkHtml = 'Like what you see? Visit the ' +\n",
              "          '<a target=\"_blank\" href=https://colab.research.google.com/notebooks/data_table.ipynb>data table notebook</a>'\n",
              "          + ' to learn more about interactive tables.';\n",
              "        element.innerHTML = '';\n",
              "        dataTable['output_type'] = 'display_data';\n",
              "        await google.colab.output.renderOutput(dataTable, element);\n",
              "        const docLink = document.createElement('div');\n",
              "        docLink.innerHTML = docLinkHtml;\n",
              "        element.appendChild(docLink);\n",
              "      }\n",
              "    </script>\n",
              "  </div>\n",
              "\n",
              "\n",
              "<div id=\"df-31cabf9b-edb6-4f4e-abc8-6c3fa978cdb7\">\n",
              "  <button class=\"colab-df-quickchart\" onclick=\"quickchart('df-31cabf9b-edb6-4f4e-abc8-6c3fa978cdb7')\"\n",
              "            title=\"Suggest charts\"\n",
              "            style=\"display:none;\">\n",
              "\n",
              "<svg xmlns=\"http://www.w3.org/2000/svg\" height=\"24px\"viewBox=\"0 0 24 24\"\n",
              "     width=\"24px\">\n",
              "    <g>\n",
              "        <path d=\"M19 3H5c-1.1 0-2 .9-2 2v14c0 1.1.9 2 2 2h14c1.1 0 2-.9 2-2V5c0-1.1-.9-2-2-2zM9 17H7v-7h2v7zm4 0h-2V7h2v10zm4 0h-2v-4h2v4z\"/>\n",
              "    </g>\n",
              "</svg>\n",
              "  </button>\n",
              "\n",
              "<style>\n",
              "  .colab-df-quickchart {\n",
              "      --bg-color: #E8F0FE;\n",
              "      --fill-color: #1967D2;\n",
              "      --hover-bg-color: #E2EBFA;\n",
              "      --hover-fill-color: #174EA6;\n",
              "      --disabled-fill-color: #AAA;\n",
              "      --disabled-bg-color: #DDD;\n",
              "  }\n",
              "\n",
              "  [theme=dark] .colab-df-quickchart {\n",
              "      --bg-color: #3B4455;\n",
              "      --fill-color: #D2E3FC;\n",
              "      --hover-bg-color: #434B5C;\n",
              "      --hover-fill-color: #FFFFFF;\n",
              "      --disabled-bg-color: #3B4455;\n",
              "      --disabled-fill-color: #666;\n",
              "  }\n",
              "\n",
              "  .colab-df-quickchart {\n",
              "    background-color: var(--bg-color);\n",
              "    border: none;\n",
              "    border-radius: 50%;\n",
              "    cursor: pointer;\n",
              "    display: none;\n",
              "    fill: var(--fill-color);\n",
              "    height: 32px;\n",
              "    padding: 0;\n",
              "    width: 32px;\n",
              "  }\n",
              "\n",
              "  .colab-df-quickchart:hover {\n",
              "    background-color: var(--hover-bg-color);\n",
              "    box-shadow: 0 1px 2px rgba(60, 64, 67, 0.3), 0 1px 3px 1px rgba(60, 64, 67, 0.15);\n",
              "    fill: var(--button-hover-fill-color);\n",
              "  }\n",
              "\n",
              "  .colab-df-quickchart-complete:disabled,\n",
              "  .colab-df-quickchart-complete:disabled:hover {\n",
              "    background-color: var(--disabled-bg-color);\n",
              "    fill: var(--disabled-fill-color);\n",
              "    box-shadow: none;\n",
              "  }\n",
              "\n",
              "  .colab-df-spinner {\n",
              "    border: 2px solid var(--fill-color);\n",
              "    border-color: transparent;\n",
              "    border-bottom-color: var(--fill-color);\n",
              "    animation:\n",
              "      spin 1s steps(1) infinite;\n",
              "  }\n",
              "\n",
              "  @keyframes spin {\n",
              "    0% {\n",
              "      border-color: transparent;\n",
              "      border-bottom-color: var(--fill-color);\n",
              "      border-left-color: var(--fill-color);\n",
              "    }\n",
              "    20% {\n",
              "      border-color: transparent;\n",
              "      border-left-color: var(--fill-color);\n",
              "      border-top-color: var(--fill-color);\n",
              "    }\n",
              "    30% {\n",
              "      border-color: transparent;\n",
              "      border-left-color: var(--fill-color);\n",
              "      border-top-color: var(--fill-color);\n",
              "      border-right-color: var(--fill-color);\n",
              "    }\n",
              "    40% {\n",
              "      border-color: transparent;\n",
              "      border-right-color: var(--fill-color);\n",
              "      border-top-color: var(--fill-color);\n",
              "    }\n",
              "    60% {\n",
              "      border-color: transparent;\n",
              "      border-right-color: var(--fill-color);\n",
              "    }\n",
              "    80% {\n",
              "      border-color: transparent;\n",
              "      border-right-color: var(--fill-color);\n",
              "      border-bottom-color: var(--fill-color);\n",
              "    }\n",
              "    90% {\n",
              "      border-color: transparent;\n",
              "      border-bottom-color: var(--fill-color);\n",
              "    }\n",
              "  }\n",
              "</style>\n",
              "\n",
              "  <script>\n",
              "    async function quickchart(key) {\n",
              "      const quickchartButtonEl =\n",
              "        document.querySelector('#' + key + ' button');\n",
              "      quickchartButtonEl.disabled = true;  // To prevent multiple clicks.\n",
              "      quickchartButtonEl.classList.add('colab-df-spinner');\n",
              "      try {\n",
              "        const charts = await google.colab.kernel.invokeFunction(\n",
              "            'suggestCharts', [key], {});\n",
              "      } catch (error) {\n",
              "        console.error('Error during call to suggestCharts:', error);\n",
              "      }\n",
              "      quickchartButtonEl.classList.remove('colab-df-spinner');\n",
              "      quickchartButtonEl.classList.add('colab-df-quickchart-complete');\n",
              "    }\n",
              "    (() => {\n",
              "      let quickchartButtonEl =\n",
              "        document.querySelector('#df-31cabf9b-edb6-4f4e-abc8-6c3fa978cdb7 button');\n",
              "      quickchartButtonEl.style.display =\n",
              "        google.colab.kernel.accessAllowed ? 'block' : 'none';\n",
              "    })();\n",
              "  </script>\n",
              "</div>\n",
              "    </div>\n",
              "  </div>\n"
            ]
          },
          "metadata": {},
          "execution_count": 3
        }
      ]
    },
    {
      "cell_type": "markdown",
      "source": [
        "### **DATA CLEANING**"
      ],
      "metadata": {
        "id": "JlT_wm_JIlLl"
      }
    },
    {
      "cell_type": "code",
      "source": [
        "data.info()"
      ],
      "metadata": {
        "colab": {
          "base_uri": "https://localhost:8080/"
        },
        "id": "XDo-qqCFGCQL",
        "outputId": "37a9800e-fe68-469d-b1ef-54e679193654"
      },
      "execution_count": 4,
      "outputs": [
        {
          "output_type": "stream",
          "name": "stdout",
          "text": [
            "<class 'pandas.core.frame.DataFrame'>\n",
            "RangeIndex: 1074 entries, 0 to 1073\n",
            "Data columns (total 10 columns):\n",
            " #   Column            Non-Null Count  Dtype \n",
            "---  ------            --------------  ----- \n",
            " 0   Company           1074 non-null   object\n",
            " 1   Valuation         1074 non-null   object\n",
            " 2   Date Joined       1074 non-null   object\n",
            " 3   Industry          1074 non-null   object\n",
            " 4   City              1058 non-null   object\n",
            " 5   Country           1074 non-null   object\n",
            " 6   Continent         1074 non-null   object\n",
            " 7   Year Founded      1074 non-null   int64 \n",
            " 8   Funding           1074 non-null   object\n",
            " 9   Select Investors  1073 non-null   object\n",
            "dtypes: int64(1), object(9)\n",
            "memory usage: 84.0+ KB\n"
          ]
        }
      ]
    },
    {
      "cell_type": "code",
      "source": [
        "#Checking duplicated values\n",
        "data.duplicated().value_counts()"
      ],
      "metadata": {
        "colab": {
          "base_uri": "https://localhost:8080/"
        },
        "id": "E_9EeNqnKyL-",
        "outputId": "4649365e-5760-496a-8037-d3d49bf984a9"
      },
      "execution_count": 5,
      "outputs": [
        {
          "output_type": "execute_result",
          "data": {
            "text/plain": [
              "False    1074\n",
              "dtype: int64"
            ]
          },
          "metadata": {},
          "execution_count": 5
        }
      ]
    },
    {
      "cell_type": "code",
      "source": [
        "# Checking null values\n",
        "data.isna().sum()"
      ],
      "metadata": {
        "colab": {
          "base_uri": "https://localhost:8080/"
        },
        "id": "UqiGgM86yWky",
        "outputId": "56151125-3b05-4d75-91d9-ef35a590f95c"
      },
      "execution_count": 6,
      "outputs": [
        {
          "output_type": "execute_result",
          "data": {
            "text/plain": [
              "Company              0\n",
              "Valuation            0\n",
              "Date Joined          0\n",
              "Industry             0\n",
              "City                16\n",
              "Country              0\n",
              "Continent            0\n",
              "Year Founded         0\n",
              "Funding              0\n",
              "Select Investors     1\n",
              "dtype: int64"
            ]
          },
          "metadata": {},
          "execution_count": 6
        }
      ]
    },
    {
      "cell_type": "code",
      "source": [
        "#Finding rows with null values\n",
        "data[data.isnull().any(axis = 1)]"
      ],
      "metadata": {
        "colab": {
          "base_uri": "https://localhost:8080/",
          "height": 582
        },
        "id": "xLcrk3_H2Bg7",
        "outputId": "d421a689-694f-490d-ebf8-1b17fd2b3cc5"
      },
      "execution_count": 7,
      "outputs": [
        {
          "output_type": "execute_result",
          "data": {
            "text/plain": [
              "                         Company Valuation Date Joined  \\\n",
              "12                           FTX      $32B  2021-07-20   \n",
              "170                    HyalRoute       $4B  2020-05-26   \n",
              "242                       Moglix       $3B  2021-05-17   \n",
              "251                         Trax       $3B  2019-07-22   \n",
              "325                  Amber Group       $3B  2021-06-21   \n",
              "382                    Ninja Van       $2B  2021-09-27   \n",
              "541   Advance Intelligence Group       $2B  2021-09-23   \n",
              "629             LinkSure Network       $1B  2015-01-01   \n",
              "811                    Carousell       $1B  2021-09-15   \n",
              "848                   Matrixport       $1B  2021-06-01   \n",
              "880                     bolttech       $1B  2021-07-01   \n",
              "889                        Carro       $1B  2021-06-14   \n",
              "893                        Cider       $1B  2021-09-02   \n",
              "980                         NIUM       $1B  2021-07-13   \n",
              "986                          ONE       $1B  2021-12-08   \n",
              "994                      PatSnap       $1B  2021-03-16   \n",
              "1061                       WeLab       $1B  2017-11-08   \n",
              "\n",
              "                                 Industry      City    Country      Continent  \\\n",
              "12                                Fintech       NaN    Bahamas  North America   \n",
              "170           Mobile & telecommunications       NaN  Singapore           Asia   \n",
              "242       E-commerce & direct-to-consumer       NaN  Singapore           Asia   \n",
              "251               Artificial intelligence       NaN  Singapore           Asia   \n",
              "325                               Fintech       NaN  Hong Kong           Asia   \n",
              "382   Supply chain, logistics, & delivery       NaN  Singapore           Asia   \n",
              "541               Artificial intelligence       NaN  Singapore           Asia   \n",
              "629           Mobile & telecommunications  Shanghai      China           Asia   \n",
              "811       E-commerce & direct-to-consumer       NaN  Singapore           Asia   \n",
              "848                               Fintech       NaN  Singapore           Asia   \n",
              "880                               Fintech       NaN  Singapore           Asia   \n",
              "889       E-commerce & direct-to-consumer       NaN  Singapore           Asia   \n",
              "893       E-commerce & direct-to-consumer       NaN  Hong Kong           Asia   \n",
              "980                               Fintech       NaN  Singapore           Asia   \n",
              "986          Internet software & services       NaN  Singapore           Asia   \n",
              "994          Internet software & services       NaN  Singapore           Asia   \n",
              "1061                              Fintech       NaN  Hong Kong           Asia   \n",
              "\n",
              "      Year Founded Funding                                   Select Investors  \n",
              "12            2018     $2B             Sequoia Capital, Thoma Bravo, Softbank  \n",
              "170           2015   $263M                                          Kuang-Chi  \n",
              "242           2015   $471M            Jungle Ventures, Accel, Venture Highway  \n",
              "251           2010     $1B  Hopu Investment Management, Boyu Capital, DC T...  \n",
              "325           2015   $328M  Tiger Global Management, Tiger Brokers, DCM Ve...  \n",
              "382           2014   $975M  B Capital Group, Monk's Hill Ventures, Dynamic...  \n",
              "541           2016   $536M        Vision Plus Capital, GSR Ventures, ZhenFund  \n",
              "629           2013    $52M                                                NaN  \n",
              "811           2012   $288M  500 Global, Rakuten Ventures, Golden Gate Vent...  \n",
              "848           2019   $100M  Dragonfly Captial, Qiming Venture Partners, DS...  \n",
              "880           2018   $210M  Mundi Ventures, Doqling Capital Partners, Acti...  \n",
              "889           2015   $595M  SingTel Innov8, Alpha JWC Ventures, Golden Gat...  \n",
              "893           2020   $140M       Andreessen Horowitz, DST Global, IDG Capital  \n",
              "980           2014   $285M  Vertex Ventures SE Asia, Global Founders Capit...  \n",
              "986           2011   $515M  Temasek, Guggenheim Investments, Qatar Investm...  \n",
              "994           2007   $352M  Sequoia Capital China, Shunwei Capital Partner...  \n",
              "1061          2013   $871M  Sequoia Capital China, ING, Alibaba Entreprene...  "
            ],
            "text/html": [
              "\n",
              "  <div id=\"df-dc6bee75-7c88-47d2-9da4-0e21555e1d0f\" class=\"colab-df-container\">\n",
              "    <div>\n",
              "<style scoped>\n",
              "    .dataframe tbody tr th:only-of-type {\n",
              "        vertical-align: middle;\n",
              "    }\n",
              "\n",
              "    .dataframe tbody tr th {\n",
              "        vertical-align: top;\n",
              "    }\n",
              "\n",
              "    .dataframe thead th {\n",
              "        text-align: right;\n",
              "    }\n",
              "</style>\n",
              "<table border=\"1\" class=\"dataframe\">\n",
              "  <thead>\n",
              "    <tr style=\"text-align: right;\">\n",
              "      <th></th>\n",
              "      <th>Company</th>\n",
              "      <th>Valuation</th>\n",
              "      <th>Date Joined</th>\n",
              "      <th>Industry</th>\n",
              "      <th>City</th>\n",
              "      <th>Country</th>\n",
              "      <th>Continent</th>\n",
              "      <th>Year Founded</th>\n",
              "      <th>Funding</th>\n",
              "      <th>Select Investors</th>\n",
              "    </tr>\n",
              "  </thead>\n",
              "  <tbody>\n",
              "    <tr>\n",
              "      <th>12</th>\n",
              "      <td>FTX</td>\n",
              "      <td>$32B</td>\n",
              "      <td>2021-07-20</td>\n",
              "      <td>Fintech</td>\n",
              "      <td>NaN</td>\n",
              "      <td>Bahamas</td>\n",
              "      <td>North America</td>\n",
              "      <td>2018</td>\n",
              "      <td>$2B</td>\n",
              "      <td>Sequoia Capital, Thoma Bravo, Softbank</td>\n",
              "    </tr>\n",
              "    <tr>\n",
              "      <th>170</th>\n",
              "      <td>HyalRoute</td>\n",
              "      <td>$4B</td>\n",
              "      <td>2020-05-26</td>\n",
              "      <td>Mobile &amp; telecommunications</td>\n",
              "      <td>NaN</td>\n",
              "      <td>Singapore</td>\n",
              "      <td>Asia</td>\n",
              "      <td>2015</td>\n",
              "      <td>$263M</td>\n",
              "      <td>Kuang-Chi</td>\n",
              "    </tr>\n",
              "    <tr>\n",
              "      <th>242</th>\n",
              "      <td>Moglix</td>\n",
              "      <td>$3B</td>\n",
              "      <td>2021-05-17</td>\n",
              "      <td>E-commerce &amp; direct-to-consumer</td>\n",
              "      <td>NaN</td>\n",
              "      <td>Singapore</td>\n",
              "      <td>Asia</td>\n",
              "      <td>2015</td>\n",
              "      <td>$471M</td>\n",
              "      <td>Jungle Ventures, Accel, Venture Highway</td>\n",
              "    </tr>\n",
              "    <tr>\n",
              "      <th>251</th>\n",
              "      <td>Trax</td>\n",
              "      <td>$3B</td>\n",
              "      <td>2019-07-22</td>\n",
              "      <td>Artificial intelligence</td>\n",
              "      <td>NaN</td>\n",
              "      <td>Singapore</td>\n",
              "      <td>Asia</td>\n",
              "      <td>2010</td>\n",
              "      <td>$1B</td>\n",
              "      <td>Hopu Investment Management, Boyu Capital, DC T...</td>\n",
              "    </tr>\n",
              "    <tr>\n",
              "      <th>325</th>\n",
              "      <td>Amber Group</td>\n",
              "      <td>$3B</td>\n",
              "      <td>2021-06-21</td>\n",
              "      <td>Fintech</td>\n",
              "      <td>NaN</td>\n",
              "      <td>Hong Kong</td>\n",
              "      <td>Asia</td>\n",
              "      <td>2015</td>\n",
              "      <td>$328M</td>\n",
              "      <td>Tiger Global Management, Tiger Brokers, DCM Ve...</td>\n",
              "    </tr>\n",
              "    <tr>\n",
              "      <th>382</th>\n",
              "      <td>Ninja Van</td>\n",
              "      <td>$2B</td>\n",
              "      <td>2021-09-27</td>\n",
              "      <td>Supply chain, logistics, &amp; delivery</td>\n",
              "      <td>NaN</td>\n",
              "      <td>Singapore</td>\n",
              "      <td>Asia</td>\n",
              "      <td>2014</td>\n",
              "      <td>$975M</td>\n",
              "      <td>B Capital Group, Monk's Hill Ventures, Dynamic...</td>\n",
              "    </tr>\n",
              "    <tr>\n",
              "      <th>541</th>\n",
              "      <td>Advance Intelligence Group</td>\n",
              "      <td>$2B</td>\n",
              "      <td>2021-09-23</td>\n",
              "      <td>Artificial intelligence</td>\n",
              "      <td>NaN</td>\n",
              "      <td>Singapore</td>\n",
              "      <td>Asia</td>\n",
              "      <td>2016</td>\n",
              "      <td>$536M</td>\n",
              "      <td>Vision Plus Capital, GSR Ventures, ZhenFund</td>\n",
              "    </tr>\n",
              "    <tr>\n",
              "      <th>629</th>\n",
              "      <td>LinkSure Network</td>\n",
              "      <td>$1B</td>\n",
              "      <td>2015-01-01</td>\n",
              "      <td>Mobile &amp; telecommunications</td>\n",
              "      <td>Shanghai</td>\n",
              "      <td>China</td>\n",
              "      <td>Asia</td>\n",
              "      <td>2013</td>\n",
              "      <td>$52M</td>\n",
              "      <td>NaN</td>\n",
              "    </tr>\n",
              "    <tr>\n",
              "      <th>811</th>\n",
              "      <td>Carousell</td>\n",
              "      <td>$1B</td>\n",
              "      <td>2021-09-15</td>\n",
              "      <td>E-commerce &amp; direct-to-consumer</td>\n",
              "      <td>NaN</td>\n",
              "      <td>Singapore</td>\n",
              "      <td>Asia</td>\n",
              "      <td>2012</td>\n",
              "      <td>$288M</td>\n",
              "      <td>500 Global, Rakuten Ventures, Golden Gate Vent...</td>\n",
              "    </tr>\n",
              "    <tr>\n",
              "      <th>848</th>\n",
              "      <td>Matrixport</td>\n",
              "      <td>$1B</td>\n",
              "      <td>2021-06-01</td>\n",
              "      <td>Fintech</td>\n",
              "      <td>NaN</td>\n",
              "      <td>Singapore</td>\n",
              "      <td>Asia</td>\n",
              "      <td>2019</td>\n",
              "      <td>$100M</td>\n",
              "      <td>Dragonfly Captial, Qiming Venture Partners, DS...</td>\n",
              "    </tr>\n",
              "    <tr>\n",
              "      <th>880</th>\n",
              "      <td>bolttech</td>\n",
              "      <td>$1B</td>\n",
              "      <td>2021-07-01</td>\n",
              "      <td>Fintech</td>\n",
              "      <td>NaN</td>\n",
              "      <td>Singapore</td>\n",
              "      <td>Asia</td>\n",
              "      <td>2018</td>\n",
              "      <td>$210M</td>\n",
              "      <td>Mundi Ventures, Doqling Capital Partners, Acti...</td>\n",
              "    </tr>\n",
              "    <tr>\n",
              "      <th>889</th>\n",
              "      <td>Carro</td>\n",
              "      <td>$1B</td>\n",
              "      <td>2021-06-14</td>\n",
              "      <td>E-commerce &amp; direct-to-consumer</td>\n",
              "      <td>NaN</td>\n",
              "      <td>Singapore</td>\n",
              "      <td>Asia</td>\n",
              "      <td>2015</td>\n",
              "      <td>$595M</td>\n",
              "      <td>SingTel Innov8, Alpha JWC Ventures, Golden Gat...</td>\n",
              "    </tr>\n",
              "    <tr>\n",
              "      <th>893</th>\n",
              "      <td>Cider</td>\n",
              "      <td>$1B</td>\n",
              "      <td>2021-09-02</td>\n",
              "      <td>E-commerce &amp; direct-to-consumer</td>\n",
              "      <td>NaN</td>\n",
              "      <td>Hong Kong</td>\n",
              "      <td>Asia</td>\n",
              "      <td>2020</td>\n",
              "      <td>$140M</td>\n",
              "      <td>Andreessen Horowitz, DST Global, IDG Capital</td>\n",
              "    </tr>\n",
              "    <tr>\n",
              "      <th>980</th>\n",
              "      <td>NIUM</td>\n",
              "      <td>$1B</td>\n",
              "      <td>2021-07-13</td>\n",
              "      <td>Fintech</td>\n",
              "      <td>NaN</td>\n",
              "      <td>Singapore</td>\n",
              "      <td>Asia</td>\n",
              "      <td>2014</td>\n",
              "      <td>$285M</td>\n",
              "      <td>Vertex Ventures SE Asia, Global Founders Capit...</td>\n",
              "    </tr>\n",
              "    <tr>\n",
              "      <th>986</th>\n",
              "      <td>ONE</td>\n",
              "      <td>$1B</td>\n",
              "      <td>2021-12-08</td>\n",
              "      <td>Internet software &amp; services</td>\n",
              "      <td>NaN</td>\n",
              "      <td>Singapore</td>\n",
              "      <td>Asia</td>\n",
              "      <td>2011</td>\n",
              "      <td>$515M</td>\n",
              "      <td>Temasek, Guggenheim Investments, Qatar Investm...</td>\n",
              "    </tr>\n",
              "    <tr>\n",
              "      <th>994</th>\n",
              "      <td>PatSnap</td>\n",
              "      <td>$1B</td>\n",
              "      <td>2021-03-16</td>\n",
              "      <td>Internet software &amp; services</td>\n",
              "      <td>NaN</td>\n",
              "      <td>Singapore</td>\n",
              "      <td>Asia</td>\n",
              "      <td>2007</td>\n",
              "      <td>$352M</td>\n",
              "      <td>Sequoia Capital China, Shunwei Capital Partner...</td>\n",
              "    </tr>\n",
              "    <tr>\n",
              "      <th>1061</th>\n",
              "      <td>WeLab</td>\n",
              "      <td>$1B</td>\n",
              "      <td>2017-11-08</td>\n",
              "      <td>Fintech</td>\n",
              "      <td>NaN</td>\n",
              "      <td>Hong Kong</td>\n",
              "      <td>Asia</td>\n",
              "      <td>2013</td>\n",
              "      <td>$871M</td>\n",
              "      <td>Sequoia Capital China, ING, Alibaba Entreprene...</td>\n",
              "    </tr>\n",
              "  </tbody>\n",
              "</table>\n",
              "</div>\n",
              "    <div class=\"colab-df-buttons\">\n",
              "\n",
              "  <div class=\"colab-df-container\">\n",
              "    <button class=\"colab-df-convert\" onclick=\"convertToInteractive('df-dc6bee75-7c88-47d2-9da4-0e21555e1d0f')\"\n",
              "            title=\"Convert this dataframe to an interactive table.\"\n",
              "            style=\"display:none;\">\n",
              "\n",
              "  <svg xmlns=\"http://www.w3.org/2000/svg\" height=\"24px\" viewBox=\"0 -960 960 960\">\n",
              "    <path d=\"M120-120v-720h720v720H120Zm60-500h600v-160H180v160Zm220 220h160v-160H400v160Zm0 220h160v-160H400v160ZM180-400h160v-160H180v160Zm440 0h160v-160H620v160ZM180-180h160v-160H180v160Zm440 0h160v-160H620v160Z\"/>\n",
              "  </svg>\n",
              "    </button>\n",
              "\n",
              "  <style>\n",
              "    .colab-df-container {\n",
              "      display:flex;\n",
              "      gap: 12px;\n",
              "    }\n",
              "\n",
              "    .colab-df-convert {\n",
              "      background-color: #E8F0FE;\n",
              "      border: none;\n",
              "      border-radius: 50%;\n",
              "      cursor: pointer;\n",
              "      display: none;\n",
              "      fill: #1967D2;\n",
              "      height: 32px;\n",
              "      padding: 0 0 0 0;\n",
              "      width: 32px;\n",
              "    }\n",
              "\n",
              "    .colab-df-convert:hover {\n",
              "      background-color: #E2EBFA;\n",
              "      box-shadow: 0px 1px 2px rgba(60, 64, 67, 0.3), 0px 1px 3px 1px rgba(60, 64, 67, 0.15);\n",
              "      fill: #174EA6;\n",
              "    }\n",
              "\n",
              "    .colab-df-buttons div {\n",
              "      margin-bottom: 4px;\n",
              "    }\n",
              "\n",
              "    [theme=dark] .colab-df-convert {\n",
              "      background-color: #3B4455;\n",
              "      fill: #D2E3FC;\n",
              "    }\n",
              "\n",
              "    [theme=dark] .colab-df-convert:hover {\n",
              "      background-color: #434B5C;\n",
              "      box-shadow: 0px 1px 3px 1px rgba(0, 0, 0, 0.15);\n",
              "      filter: drop-shadow(0px 1px 2px rgba(0, 0, 0, 0.3));\n",
              "      fill: #FFFFFF;\n",
              "    }\n",
              "  </style>\n",
              "\n",
              "    <script>\n",
              "      const buttonEl =\n",
              "        document.querySelector('#df-dc6bee75-7c88-47d2-9da4-0e21555e1d0f button.colab-df-convert');\n",
              "      buttonEl.style.display =\n",
              "        google.colab.kernel.accessAllowed ? 'block' : 'none';\n",
              "\n",
              "      async function convertToInteractive(key) {\n",
              "        const element = document.querySelector('#df-dc6bee75-7c88-47d2-9da4-0e21555e1d0f');\n",
              "        const dataTable =\n",
              "          await google.colab.kernel.invokeFunction('convertToInteractive',\n",
              "                                                    [key], {});\n",
              "        if (!dataTable) return;\n",
              "\n",
              "        const docLinkHtml = 'Like what you see? Visit the ' +\n",
              "          '<a target=\"_blank\" href=https://colab.research.google.com/notebooks/data_table.ipynb>data table notebook</a>'\n",
              "          + ' to learn more about interactive tables.';\n",
              "        element.innerHTML = '';\n",
              "        dataTable['output_type'] = 'display_data';\n",
              "        await google.colab.output.renderOutput(dataTable, element);\n",
              "        const docLink = document.createElement('div');\n",
              "        docLink.innerHTML = docLinkHtml;\n",
              "        element.appendChild(docLink);\n",
              "      }\n",
              "    </script>\n",
              "  </div>\n",
              "\n",
              "\n",
              "<div id=\"df-935adf17-43d3-4c0d-9e13-90cd31d4d6c4\">\n",
              "  <button class=\"colab-df-quickchart\" onclick=\"quickchart('df-935adf17-43d3-4c0d-9e13-90cd31d4d6c4')\"\n",
              "            title=\"Suggest charts\"\n",
              "            style=\"display:none;\">\n",
              "\n",
              "<svg xmlns=\"http://www.w3.org/2000/svg\" height=\"24px\"viewBox=\"0 0 24 24\"\n",
              "     width=\"24px\">\n",
              "    <g>\n",
              "        <path d=\"M19 3H5c-1.1 0-2 .9-2 2v14c0 1.1.9 2 2 2h14c1.1 0 2-.9 2-2V5c0-1.1-.9-2-2-2zM9 17H7v-7h2v7zm4 0h-2V7h2v10zm4 0h-2v-4h2v4z\"/>\n",
              "    </g>\n",
              "</svg>\n",
              "  </button>\n",
              "\n",
              "<style>\n",
              "  .colab-df-quickchart {\n",
              "      --bg-color: #E8F0FE;\n",
              "      --fill-color: #1967D2;\n",
              "      --hover-bg-color: #E2EBFA;\n",
              "      --hover-fill-color: #174EA6;\n",
              "      --disabled-fill-color: #AAA;\n",
              "      --disabled-bg-color: #DDD;\n",
              "  }\n",
              "\n",
              "  [theme=dark] .colab-df-quickchart {\n",
              "      --bg-color: #3B4455;\n",
              "      --fill-color: #D2E3FC;\n",
              "      --hover-bg-color: #434B5C;\n",
              "      --hover-fill-color: #FFFFFF;\n",
              "      --disabled-bg-color: #3B4455;\n",
              "      --disabled-fill-color: #666;\n",
              "  }\n",
              "\n",
              "  .colab-df-quickchart {\n",
              "    background-color: var(--bg-color);\n",
              "    border: none;\n",
              "    border-radius: 50%;\n",
              "    cursor: pointer;\n",
              "    display: none;\n",
              "    fill: var(--fill-color);\n",
              "    height: 32px;\n",
              "    padding: 0;\n",
              "    width: 32px;\n",
              "  }\n",
              "\n",
              "  .colab-df-quickchart:hover {\n",
              "    background-color: var(--hover-bg-color);\n",
              "    box-shadow: 0 1px 2px rgba(60, 64, 67, 0.3), 0 1px 3px 1px rgba(60, 64, 67, 0.15);\n",
              "    fill: var(--button-hover-fill-color);\n",
              "  }\n",
              "\n",
              "  .colab-df-quickchart-complete:disabled,\n",
              "  .colab-df-quickchart-complete:disabled:hover {\n",
              "    background-color: var(--disabled-bg-color);\n",
              "    fill: var(--disabled-fill-color);\n",
              "    box-shadow: none;\n",
              "  }\n",
              "\n",
              "  .colab-df-spinner {\n",
              "    border: 2px solid var(--fill-color);\n",
              "    border-color: transparent;\n",
              "    border-bottom-color: var(--fill-color);\n",
              "    animation:\n",
              "      spin 1s steps(1) infinite;\n",
              "  }\n",
              "\n",
              "  @keyframes spin {\n",
              "    0% {\n",
              "      border-color: transparent;\n",
              "      border-bottom-color: var(--fill-color);\n",
              "      border-left-color: var(--fill-color);\n",
              "    }\n",
              "    20% {\n",
              "      border-color: transparent;\n",
              "      border-left-color: var(--fill-color);\n",
              "      border-top-color: var(--fill-color);\n",
              "    }\n",
              "    30% {\n",
              "      border-color: transparent;\n",
              "      border-left-color: var(--fill-color);\n",
              "      border-top-color: var(--fill-color);\n",
              "      border-right-color: var(--fill-color);\n",
              "    }\n",
              "    40% {\n",
              "      border-color: transparent;\n",
              "      border-right-color: var(--fill-color);\n",
              "      border-top-color: var(--fill-color);\n",
              "    }\n",
              "    60% {\n",
              "      border-color: transparent;\n",
              "      border-right-color: var(--fill-color);\n",
              "    }\n",
              "    80% {\n",
              "      border-color: transparent;\n",
              "      border-right-color: var(--fill-color);\n",
              "      border-bottom-color: var(--fill-color);\n",
              "    }\n",
              "    90% {\n",
              "      border-color: transparent;\n",
              "      border-bottom-color: var(--fill-color);\n",
              "    }\n",
              "  }\n",
              "</style>\n",
              "\n",
              "  <script>\n",
              "    async function quickchart(key) {\n",
              "      const quickchartButtonEl =\n",
              "        document.querySelector('#' + key + ' button');\n",
              "      quickchartButtonEl.disabled = true;  // To prevent multiple clicks.\n",
              "      quickchartButtonEl.classList.add('colab-df-spinner');\n",
              "      try {\n",
              "        const charts = await google.colab.kernel.invokeFunction(\n",
              "            'suggestCharts', [key], {});\n",
              "      } catch (error) {\n",
              "        console.error('Error during call to suggestCharts:', error);\n",
              "      }\n",
              "      quickchartButtonEl.classList.remove('colab-df-spinner');\n",
              "      quickchartButtonEl.classList.add('colab-df-quickchart-complete');\n",
              "    }\n",
              "    (() => {\n",
              "      let quickchartButtonEl =\n",
              "        document.querySelector('#df-935adf17-43d3-4c0d-9e13-90cd31d4d6c4 button');\n",
              "      quickchartButtonEl.style.display =\n",
              "        google.colab.kernel.accessAllowed ? 'block' : 'none';\n",
              "    })();\n",
              "  </script>\n",
              "</div>\n",
              "    </div>\n",
              "  </div>\n"
            ]
          },
          "metadata": {},
          "execution_count": 7
        }
      ]
    },
    {
      "cell_type": "code",
      "source": [
        "# Replace NaN values\n",
        "data.at[12,'City'] = 'Bahamas'\n",
        "data.at[325,'City'] = 'Hong Kong'\n",
        "data.at[893,'City'] = 'Hong Kong'\n",
        "data.at[1061,'City'] = 'Hong Kong'\n",
        "data.at[170,'City'] = 'Singapore'\n",
        "data.at[242,'City'] = 'Singapore'\n",
        "data.at[251,'City'] = 'Singapore'\n",
        "data.at[382,'City'] = 'Singapore'\n",
        "data.at[541,'City'] = 'Singapore'\n",
        "data.at[811,'City'] = 'Singapore'\n",
        "data.at[848,'City'] = 'Singapore'\n",
        "data.at[880,'City'] = 'Singapore'\n",
        "data.at[889,'City'] = 'Singapore'\n",
        "data.at[980,'City'] = 'Singapore'\n",
        "data.at[986,'City'] = 'Singapore'\n",
        "data.at[994,'City'] = 'Singapore'\n",
        "data['Select Investors'].fillna('No Investors', inplace=True)"
      ],
      "metadata": {
        "id": "OZJpM3TUHBTJ"
      },
      "execution_count": 8,
      "outputs": []
    },
    {
      "cell_type": "code",
      "source": [
        "#Don't have null values anymore\n",
        "data.isna().sum()"
      ],
      "metadata": {
        "colab": {
          "base_uri": "https://localhost:8080/"
        },
        "id": "9Kz09yKlIHIE",
        "outputId": "8add3f0c-7ae6-4207-a18d-15c65f9ff726"
      },
      "execution_count": 9,
      "outputs": [
        {
          "output_type": "execute_result",
          "data": {
            "text/plain": [
              "Company             0\n",
              "Valuation           0\n",
              "Date Joined         0\n",
              "Industry            0\n",
              "City                0\n",
              "Country             0\n",
              "Continent           0\n",
              "Year Founded        0\n",
              "Funding             0\n",
              "Select Investors    0\n",
              "dtype: int64"
            ]
          },
          "metadata": {},
          "execution_count": 9
        }
      ]
    },
    {
      "cell_type": "code",
      "source": [
        "# Rename columns name\n",
        "data.rename(columns={'Date Joined':'Date','Select Investors':'Investors'}, inplace = True)"
      ],
      "metadata": {
        "id": "6SPXNa5FJEBn"
      },
      "execution_count": 10,
      "outputs": []
    },
    {
      "cell_type": "code",
      "source": [
        "# Split date column\n",
        "date = data.Date.str.split('-', expand =True)\n",
        "data['day'] = date[2]\n",
        "data['month'] = date[1]\n",
        "data['year'] = date[0]\n",
        "data.year = pd.to_numeric(data.year)\n",
        "data.month = pd.to_numeric(data.month)\n",
        "data.day = pd.to_numeric(data.day)\n",
        "data.year = pd.to_numeric(data.year)"
      ],
      "metadata": {
        "id": "y6CwfMeYKYYG"
      },
      "execution_count": 11,
      "outputs": []
    },
    {
      "cell_type": "code",
      "source": [
        "#Converting\n",
        "data['Valuation']=data['Valuation'].str.replace('$', '')\n",
        "data['Valuation']=data['Valuation'].str.replace('B', '')\n",
        "data.Valuation = pd.to_numeric(data.Valuation)"
      ],
      "metadata": {
        "colab": {
          "base_uri": "https://localhost:8080/"
        },
        "id": "ZLuuNEL0L534",
        "outputId": "400d671e-e61d-4142-b601-bb0544b7a458"
      },
      "execution_count": 12,
      "outputs": [
        {
          "output_type": "stream",
          "name": "stderr",
          "text": [
            "<ipython-input-12-75dce97f52fe>:1: FutureWarning: The default value of regex will change from True to False in a future version. In addition, single character regular expressions will *not* be treated as literal strings when regex=True.\n",
            "  data['Valuation']=data['Valuation'].str.replace('$', '')\n"
          ]
        }
      ]
    },
    {
      "cell_type": "code",
      "source": [
        "#Converting\n",
        "data['Funding']=data['Funding'].str.replace('$', '')\n",
        "data['Funding']=data['Funding'].str.replace('B', '')\n",
        "data['Funding']=data['Funding'].str.replace('M', '')\n",
        "data['Funding'] = data['Funding'].replace('Unknown', '0')"
      ],
      "metadata": {
        "colab": {
          "base_uri": "https://localhost:8080/"
        },
        "id": "K9_AbIK-onHw",
        "outputId": "c8599ae0-d3e1-4af2-e6a2-1042f7d7db48"
      },
      "execution_count": 13,
      "outputs": [
        {
          "output_type": "stream",
          "name": "stderr",
          "text": [
            "<ipython-input-13-4822fd86dca8>:2: FutureWarning: The default value of regex will change from True to False in a future version. In addition, single character regular expressions will *not* be treated as literal strings when regex=True.\n",
            "  data['Funding']=data['Funding'].str.replace('$', '')\n"
          ]
        }
      ]
    },
    {
      "cell_type": "code",
      "source": [
        "data.Funding = pd.to_numeric(data.Funding)"
      ],
      "metadata": {
        "id": "Cn51SJBjq3bl"
      },
      "execution_count": 14,
      "outputs": []
    },
    {
      "cell_type": "code",
      "source": [
        "data.head(5)"
      ],
      "metadata": {
        "colab": {
          "base_uri": "https://localhost:8080/",
          "height": 206
        },
        "id": "oYBe9pE4MZ9D",
        "outputId": "08a16aa1-353a-4637-bde4-e74d209025ad"
      },
      "execution_count": 15,
      "outputs": [
        {
          "output_type": "execute_result",
          "data": {
            "text/plain": [
              "     Company  Valuation        Date                         Industry  \\\n",
              "0  Bytedance        180  2017-04-07          Artificial intelligence   \n",
              "1     SpaceX        100  2012-12-01                            Other   \n",
              "2      SHEIN        100  2018-07-03  E-commerce & direct-to-consumer   \n",
              "3     Stripe         95  2014-01-23                          Fintech   \n",
              "4     Klarna         46  2011-12-12                          Fintech   \n",
              "\n",
              "            City        Country      Continent  Year Founded  Funding  \\\n",
              "0        Beijing          China           Asia          2012        8   \n",
              "1      Hawthorne  United States  North America          2002        7   \n",
              "2       Shenzhen          China           Asia          2008        2   \n",
              "3  San Francisco  United States  North America          2010        2   \n",
              "4      Stockholm         Sweden         Europe          2005        4   \n",
              "\n",
              "                                           Investors  day  month  year  \n",
              "0  Sequoia Capital China, SIG Asia Investments, S...    7      4  2017  \n",
              "1  Founders Fund, Draper Fisher Jurvetson, Rothen...    1     12  2012  \n",
              "2  Tiger Global Management, Sequoia Capital China...    3      7  2018  \n",
              "3        Khosla Ventures, LowercaseCapital, capitalG   23      1  2014  \n",
              "4  Institutional Venture Partners, Sequoia Capita...   12     12  2011  "
            ],
            "text/html": [
              "\n",
              "  <div id=\"df-34ca5571-aed8-4ad1-aa3b-7c9650477b65\" class=\"colab-df-container\">\n",
              "    <div>\n",
              "<style scoped>\n",
              "    .dataframe tbody tr th:only-of-type {\n",
              "        vertical-align: middle;\n",
              "    }\n",
              "\n",
              "    .dataframe tbody tr th {\n",
              "        vertical-align: top;\n",
              "    }\n",
              "\n",
              "    .dataframe thead th {\n",
              "        text-align: right;\n",
              "    }\n",
              "</style>\n",
              "<table border=\"1\" class=\"dataframe\">\n",
              "  <thead>\n",
              "    <tr style=\"text-align: right;\">\n",
              "      <th></th>\n",
              "      <th>Company</th>\n",
              "      <th>Valuation</th>\n",
              "      <th>Date</th>\n",
              "      <th>Industry</th>\n",
              "      <th>City</th>\n",
              "      <th>Country</th>\n",
              "      <th>Continent</th>\n",
              "      <th>Year Founded</th>\n",
              "      <th>Funding</th>\n",
              "      <th>Investors</th>\n",
              "      <th>day</th>\n",
              "      <th>month</th>\n",
              "      <th>year</th>\n",
              "    </tr>\n",
              "  </thead>\n",
              "  <tbody>\n",
              "    <tr>\n",
              "      <th>0</th>\n",
              "      <td>Bytedance</td>\n",
              "      <td>180</td>\n",
              "      <td>2017-04-07</td>\n",
              "      <td>Artificial intelligence</td>\n",
              "      <td>Beijing</td>\n",
              "      <td>China</td>\n",
              "      <td>Asia</td>\n",
              "      <td>2012</td>\n",
              "      <td>8</td>\n",
              "      <td>Sequoia Capital China, SIG Asia Investments, S...</td>\n",
              "      <td>7</td>\n",
              "      <td>4</td>\n",
              "      <td>2017</td>\n",
              "    </tr>\n",
              "    <tr>\n",
              "      <th>1</th>\n",
              "      <td>SpaceX</td>\n",
              "      <td>100</td>\n",
              "      <td>2012-12-01</td>\n",
              "      <td>Other</td>\n",
              "      <td>Hawthorne</td>\n",
              "      <td>United States</td>\n",
              "      <td>North America</td>\n",
              "      <td>2002</td>\n",
              "      <td>7</td>\n",
              "      <td>Founders Fund, Draper Fisher Jurvetson, Rothen...</td>\n",
              "      <td>1</td>\n",
              "      <td>12</td>\n",
              "      <td>2012</td>\n",
              "    </tr>\n",
              "    <tr>\n",
              "      <th>2</th>\n",
              "      <td>SHEIN</td>\n",
              "      <td>100</td>\n",
              "      <td>2018-07-03</td>\n",
              "      <td>E-commerce &amp; direct-to-consumer</td>\n",
              "      <td>Shenzhen</td>\n",
              "      <td>China</td>\n",
              "      <td>Asia</td>\n",
              "      <td>2008</td>\n",
              "      <td>2</td>\n",
              "      <td>Tiger Global Management, Sequoia Capital China...</td>\n",
              "      <td>3</td>\n",
              "      <td>7</td>\n",
              "      <td>2018</td>\n",
              "    </tr>\n",
              "    <tr>\n",
              "      <th>3</th>\n",
              "      <td>Stripe</td>\n",
              "      <td>95</td>\n",
              "      <td>2014-01-23</td>\n",
              "      <td>Fintech</td>\n",
              "      <td>San Francisco</td>\n",
              "      <td>United States</td>\n",
              "      <td>North America</td>\n",
              "      <td>2010</td>\n",
              "      <td>2</td>\n",
              "      <td>Khosla Ventures, LowercaseCapital, capitalG</td>\n",
              "      <td>23</td>\n",
              "      <td>1</td>\n",
              "      <td>2014</td>\n",
              "    </tr>\n",
              "    <tr>\n",
              "      <th>4</th>\n",
              "      <td>Klarna</td>\n",
              "      <td>46</td>\n",
              "      <td>2011-12-12</td>\n",
              "      <td>Fintech</td>\n",
              "      <td>Stockholm</td>\n",
              "      <td>Sweden</td>\n",
              "      <td>Europe</td>\n",
              "      <td>2005</td>\n",
              "      <td>4</td>\n",
              "      <td>Institutional Venture Partners, Sequoia Capita...</td>\n",
              "      <td>12</td>\n",
              "      <td>12</td>\n",
              "      <td>2011</td>\n",
              "    </tr>\n",
              "  </tbody>\n",
              "</table>\n",
              "</div>\n",
              "    <div class=\"colab-df-buttons\">\n",
              "\n",
              "  <div class=\"colab-df-container\">\n",
              "    <button class=\"colab-df-convert\" onclick=\"convertToInteractive('df-34ca5571-aed8-4ad1-aa3b-7c9650477b65')\"\n",
              "            title=\"Convert this dataframe to an interactive table.\"\n",
              "            style=\"display:none;\">\n",
              "\n",
              "  <svg xmlns=\"http://www.w3.org/2000/svg\" height=\"24px\" viewBox=\"0 -960 960 960\">\n",
              "    <path d=\"M120-120v-720h720v720H120Zm60-500h600v-160H180v160Zm220 220h160v-160H400v160Zm0 220h160v-160H400v160ZM180-400h160v-160H180v160Zm440 0h160v-160H620v160ZM180-180h160v-160H180v160Zm440 0h160v-160H620v160Z\"/>\n",
              "  </svg>\n",
              "    </button>\n",
              "\n",
              "  <style>\n",
              "    .colab-df-container {\n",
              "      display:flex;\n",
              "      gap: 12px;\n",
              "    }\n",
              "\n",
              "    .colab-df-convert {\n",
              "      background-color: #E8F0FE;\n",
              "      border: none;\n",
              "      border-radius: 50%;\n",
              "      cursor: pointer;\n",
              "      display: none;\n",
              "      fill: #1967D2;\n",
              "      height: 32px;\n",
              "      padding: 0 0 0 0;\n",
              "      width: 32px;\n",
              "    }\n",
              "\n",
              "    .colab-df-convert:hover {\n",
              "      background-color: #E2EBFA;\n",
              "      box-shadow: 0px 1px 2px rgba(60, 64, 67, 0.3), 0px 1px 3px 1px rgba(60, 64, 67, 0.15);\n",
              "      fill: #174EA6;\n",
              "    }\n",
              "\n",
              "    .colab-df-buttons div {\n",
              "      margin-bottom: 4px;\n",
              "    }\n",
              "\n",
              "    [theme=dark] .colab-df-convert {\n",
              "      background-color: #3B4455;\n",
              "      fill: #D2E3FC;\n",
              "    }\n",
              "\n",
              "    [theme=dark] .colab-df-convert:hover {\n",
              "      background-color: #434B5C;\n",
              "      box-shadow: 0px 1px 3px 1px rgba(0, 0, 0, 0.15);\n",
              "      filter: drop-shadow(0px 1px 2px rgba(0, 0, 0, 0.3));\n",
              "      fill: #FFFFFF;\n",
              "    }\n",
              "  </style>\n",
              "\n",
              "    <script>\n",
              "      const buttonEl =\n",
              "        document.querySelector('#df-34ca5571-aed8-4ad1-aa3b-7c9650477b65 button.colab-df-convert');\n",
              "      buttonEl.style.display =\n",
              "        google.colab.kernel.accessAllowed ? 'block' : 'none';\n",
              "\n",
              "      async function convertToInteractive(key) {\n",
              "        const element = document.querySelector('#df-34ca5571-aed8-4ad1-aa3b-7c9650477b65');\n",
              "        const dataTable =\n",
              "          await google.colab.kernel.invokeFunction('convertToInteractive',\n",
              "                                                    [key], {});\n",
              "        if (!dataTable) return;\n",
              "\n",
              "        const docLinkHtml = 'Like what you see? Visit the ' +\n",
              "          '<a target=\"_blank\" href=https://colab.research.google.com/notebooks/data_table.ipynb>data table notebook</a>'\n",
              "          + ' to learn more about interactive tables.';\n",
              "        element.innerHTML = '';\n",
              "        dataTable['output_type'] = 'display_data';\n",
              "        await google.colab.output.renderOutput(dataTable, element);\n",
              "        const docLink = document.createElement('div');\n",
              "        docLink.innerHTML = docLinkHtml;\n",
              "        element.appendChild(docLink);\n",
              "      }\n",
              "    </script>\n",
              "  </div>\n",
              "\n",
              "\n",
              "<div id=\"df-b303fe58-eb6f-457f-a041-c1203aa9e1cf\">\n",
              "  <button class=\"colab-df-quickchart\" onclick=\"quickchart('df-b303fe58-eb6f-457f-a041-c1203aa9e1cf')\"\n",
              "            title=\"Suggest charts\"\n",
              "            style=\"display:none;\">\n",
              "\n",
              "<svg xmlns=\"http://www.w3.org/2000/svg\" height=\"24px\"viewBox=\"0 0 24 24\"\n",
              "     width=\"24px\">\n",
              "    <g>\n",
              "        <path d=\"M19 3H5c-1.1 0-2 .9-2 2v14c0 1.1.9 2 2 2h14c1.1 0 2-.9 2-2V5c0-1.1-.9-2-2-2zM9 17H7v-7h2v7zm4 0h-2V7h2v10zm4 0h-2v-4h2v4z\"/>\n",
              "    </g>\n",
              "</svg>\n",
              "  </button>\n",
              "\n",
              "<style>\n",
              "  .colab-df-quickchart {\n",
              "      --bg-color: #E8F0FE;\n",
              "      --fill-color: #1967D2;\n",
              "      --hover-bg-color: #E2EBFA;\n",
              "      --hover-fill-color: #174EA6;\n",
              "      --disabled-fill-color: #AAA;\n",
              "      --disabled-bg-color: #DDD;\n",
              "  }\n",
              "\n",
              "  [theme=dark] .colab-df-quickchart {\n",
              "      --bg-color: #3B4455;\n",
              "      --fill-color: #D2E3FC;\n",
              "      --hover-bg-color: #434B5C;\n",
              "      --hover-fill-color: #FFFFFF;\n",
              "      --disabled-bg-color: #3B4455;\n",
              "      --disabled-fill-color: #666;\n",
              "  }\n",
              "\n",
              "  .colab-df-quickchart {\n",
              "    background-color: var(--bg-color);\n",
              "    border: none;\n",
              "    border-radius: 50%;\n",
              "    cursor: pointer;\n",
              "    display: none;\n",
              "    fill: var(--fill-color);\n",
              "    height: 32px;\n",
              "    padding: 0;\n",
              "    width: 32px;\n",
              "  }\n",
              "\n",
              "  .colab-df-quickchart:hover {\n",
              "    background-color: var(--hover-bg-color);\n",
              "    box-shadow: 0 1px 2px rgba(60, 64, 67, 0.3), 0 1px 3px 1px rgba(60, 64, 67, 0.15);\n",
              "    fill: var(--button-hover-fill-color);\n",
              "  }\n",
              "\n",
              "  .colab-df-quickchart-complete:disabled,\n",
              "  .colab-df-quickchart-complete:disabled:hover {\n",
              "    background-color: var(--disabled-bg-color);\n",
              "    fill: var(--disabled-fill-color);\n",
              "    box-shadow: none;\n",
              "  }\n",
              "\n",
              "  .colab-df-spinner {\n",
              "    border: 2px solid var(--fill-color);\n",
              "    border-color: transparent;\n",
              "    border-bottom-color: var(--fill-color);\n",
              "    animation:\n",
              "      spin 1s steps(1) infinite;\n",
              "  }\n",
              "\n",
              "  @keyframes spin {\n",
              "    0% {\n",
              "      border-color: transparent;\n",
              "      border-bottom-color: var(--fill-color);\n",
              "      border-left-color: var(--fill-color);\n",
              "    }\n",
              "    20% {\n",
              "      border-color: transparent;\n",
              "      border-left-color: var(--fill-color);\n",
              "      border-top-color: var(--fill-color);\n",
              "    }\n",
              "    30% {\n",
              "      border-color: transparent;\n",
              "      border-left-color: var(--fill-color);\n",
              "      border-top-color: var(--fill-color);\n",
              "      border-right-color: var(--fill-color);\n",
              "    }\n",
              "    40% {\n",
              "      border-color: transparent;\n",
              "      border-right-color: var(--fill-color);\n",
              "      border-top-color: var(--fill-color);\n",
              "    }\n",
              "    60% {\n",
              "      border-color: transparent;\n",
              "      border-right-color: var(--fill-color);\n",
              "    }\n",
              "    80% {\n",
              "      border-color: transparent;\n",
              "      border-right-color: var(--fill-color);\n",
              "      border-bottom-color: var(--fill-color);\n",
              "    }\n",
              "    90% {\n",
              "      border-color: transparent;\n",
              "      border-bottom-color: var(--fill-color);\n",
              "    }\n",
              "  }\n",
              "</style>\n",
              "\n",
              "  <script>\n",
              "    async function quickchart(key) {\n",
              "      const quickchartButtonEl =\n",
              "        document.querySelector('#' + key + ' button');\n",
              "      quickchartButtonEl.disabled = true;  // To prevent multiple clicks.\n",
              "      quickchartButtonEl.classList.add('colab-df-spinner');\n",
              "      try {\n",
              "        const charts = await google.colab.kernel.invokeFunction(\n",
              "            'suggestCharts', [key], {});\n",
              "      } catch (error) {\n",
              "        console.error('Error during call to suggestCharts:', error);\n",
              "      }\n",
              "      quickchartButtonEl.classList.remove('colab-df-spinner');\n",
              "      quickchartButtonEl.classList.add('colab-df-quickchart-complete');\n",
              "    }\n",
              "    (() => {\n",
              "      let quickchartButtonEl =\n",
              "        document.querySelector('#df-b303fe58-eb6f-457f-a041-c1203aa9e1cf button');\n",
              "      quickchartButtonEl.style.display =\n",
              "        google.colab.kernel.accessAllowed ? 'block' : 'none';\n",
              "    })();\n",
              "  </script>\n",
              "</div>\n",
              "    </div>\n",
              "  </div>\n"
            ]
          },
          "metadata": {},
          "execution_count": 15
        }
      ]
    },
    {
      "cell_type": "markdown",
      "source": [
        "## 1. Top 10 companies with the biggest return on investment"
      ],
      "metadata": {
        "id": "THlScuWWV-z6"
      }
    },
    {
      "cell_type": "code",
      "source": [
        "# Calculating ROI\n",
        "data['ROI'] = data['Valuation']/data['Funding']"
      ],
      "metadata": {
        "id": "YsZxYZYFnCD4"
      },
      "execution_count": 16,
      "outputs": []
    },
    {
      "cell_type": "code",
      "source": [
        "# Sort the companies by ROI and get the top 10\n",
        "top_10_roi_companies = data.sort_values(by='ROI', ascending=False).head(10)"
      ],
      "metadata": {
        "id": "Di4vsMBrruCJ"
      },
      "execution_count": 17,
      "outputs": []
    },
    {
      "cell_type": "code",
      "source": [
        "for i, row in top_10_roi_companies.iterrows():\n",
        "    print(f\"{i+1}. {row['Company']}\")"
      ],
      "metadata": {
        "colab": {
          "base_uri": "https://localhost:8080/"
        },
        "id": "d5Vhc0ymsCqE",
        "outputId": "91e6e7ef-11e8-4a32-8e28-1f6433381f28"
      },
      "execution_count": 18,
      "outputs": [
        {
          "output_type": "stream",
          "name": "stdout",
          "text": [
            "190. Otto Bock HealthCare\n",
            "568. ISN\n",
            "734. DistroKid\n",
            "1003. Poizon\n",
            "718. Veepee\n",
            "425. Uplight\n",
            "216. SSENSE\n",
            "867. Assembly\n",
            "891. Carson Group\n",
            "652. Xiaobing\n"
          ]
        }
      ]
    },
    {
      "cell_type": "code",
      "source": [
        "plt.barh( top_10_roi_companies['Company'], top_10_roi_companies['Valuation'], color='#6c3082')\n",
        "plt.title('Top 10 companies with the biggest return on investment')\n",
        "plt.xlabel('Funding')\n",
        "plt.ylabel('Company')\n",
        "plt.show"
      ],
      "metadata": {
        "colab": {
          "base_uri": "https://localhost:8080/",
          "height": 490
        },
        "id": "-eM4UFqfR3tx",
        "outputId": "c683b20f-22a8-407c-de7e-9f726919f526"
      },
      "execution_count": 91,
      "outputs": [
        {
          "output_type": "execute_result",
          "data": {
            "text/plain": [
              "<function matplotlib.pyplot.show(close=None, block=None)>"
            ]
          },
          "metadata": {},
          "execution_count": 91
        },
        {
          "output_type": "display_data",
          "data": {
            "text/plain": [
              "<Figure size 640x480 with 1 Axes>"
            ],
            "image/png": "[encoded data removed]"
          },
          "metadata": {}
        }
      ]
    },
    {
      "cell_type": "markdown",
      "source": [
        "## 2. Top 5 countries and Top  5 cities with the highest number of Unicorn Companies"
      ],
      "metadata": {
        "id": "8fEEboGWWKRT"
      }
    },
    {
      "cell_type": "code",
      "source": [
        "top_5_countries = data.groupby(['Country']).Company.count().reset_index().sort_values('Company', ascending=False).head(5)\n",
        "print(top_5_countries)"
      ],
      "metadata": {
        "colab": {
          "base_uri": "https://localhost:8080/"
        },
        "id": "hRYTF0yQWSVv",
        "outputId": "70f6b640-7f69-4c57-e258-c7a14d334d07"
      },
      "execution_count": 95,
      "outputs": [
        {
          "output_type": "stream",
          "name": "stdout",
          "text": [
            "           Country  Company\n",
            "44   United States      562\n",
            "9            China      173\n",
            "19           India       65\n",
            "43  United Kingdom       43\n",
            "17         Germany       26\n"
          ]
        }
      ]
    },
    {
      "cell_type": "code",
      "source": [
        "plt.barh(top_5_countries ['Country'], top_5_countries ['Company'], color='blue')\n",
        "plt.title('Top 5 countries with the most number of unicorn startups')\n",
        "plt.xlabel('Count of companies')\n",
        "plt.ylabel('Country')\n",
        "plt.show"
      ],
      "metadata": {
        "colab": {
          "base_uri": "https://localhost:8080/",
          "height": 490
        },
        "id": "XH9GZi6BW1-8",
        "outputId": "360cbeec-b00b-4c36-bd40-5fd0b3aff20e"
      },
      "execution_count": 96,
      "outputs": [
        {
          "output_type": "execute_result",
          "data": {
            "text/plain": [
              "<function matplotlib.pyplot.show(close=None, block=None)>"
            ]
          },
          "metadata": {},
          "execution_count": 96
        },
        {
          "output_type": "display_data",
          "data": {
            "text/plain": [
              "<Figure size 640x480 with 1 Axes>"
            ],
            "image/png": "[encoded data removed]"
          },
          "metadata": {}
        }
      ]
    },
    {
      "cell_type": "code",
      "source": [
        "Top_5_cities = data.groupby(['City']).Company.count().reset_index().sort_values('Company', ascending=False).head(5)\n",
        "print(Top_5_cities)"
      ],
      "metadata": {
        "colab": {
          "base_uri": "https://localhost:8080/"
        },
        "id": "TCIk-auVvcDJ",
        "outputId": "e655e00f-fad3-423a-fdf9-c400b66e86a5"
      },
      "execution_count": 92,
      "outputs": [
        {
          "output_type": "stream",
          "name": "stdout",
          "text": [
            "              City  Company\n",
            "200  San Francisco      152\n",
            "162       New York      103\n",
            "14         Beijing       63\n",
            "215       Shanghai       44\n",
            "131         London       34\n"
          ]
        }
      ]
    },
    {
      "cell_type": "code",
      "source": [
        "plt.pie(Top_5_cities['Company'],labels=Top_5_cities['City'],autopct='%1.1f%%',colors=['purple','green','magenta','pink','orange'])\n",
        "plt.title('Top 5 cities with the highest number of Unicorn Companies')\n",
        "plt.show()"
      ],
      "metadata": {
        "colab": {
          "base_uri": "https://localhost:8080/",
          "height": 428
        },
        "id": "0iERsThYvhmI",
        "outputId": "a443f99a-fabb-4f4a-bc84-70d335ed6827"
      },
      "execution_count": 93,
      "outputs": [
        {
          "output_type": "display_data",
          "data": {
            "text/plain": [
              "<Figure size 640x480 with 1 Axes>"
            ],
            "image/png": "[encoded data removed]"
          },
          "metadata": {}
        }
      ]
    },
    {
      "cell_type": "markdown",
      "source": [
        "## 3. Number of unicorns per year"
      ],
      "metadata": {
        "id": "X0Fy_oqKZ8G9"
      }
    },
    {
      "cell_type": "code",
      "source": [
        "Number_of_unicorns = data.groupby(['year']).Company.count().reset_index().sort_values('year', ascending=False)\n",
        "print(Number_of_unicorns)"
      ],
      "metadata": {
        "colab": {
          "base_uri": "https://localhost:8080/"
        },
        "id": "wSDdnjS3Z65W",
        "outputId": "5e70d865-547a-480b-9d0d-74970c400746"
      },
      "execution_count": 19,
      "outputs": [
        {
          "output_type": "stream",
          "name": "stdout",
          "text": [
            "    year  Company\n",
            "12  2022      116\n",
            "11  2021      520\n",
            "10  2020      108\n",
            "9   2019      104\n",
            "8   2018      103\n",
            "7   2017       44\n",
            "6   2016       21\n",
            "5   2015       35\n",
            "4   2014       13\n",
            "3   2013        3\n",
            "2   2012        4\n",
            "1   2011        2\n",
            "0   2007        1\n"
          ]
        }
      ]
    },
    {
      "cell_type": "code",
      "source": [
        "plt.plot(Number_of_unicorns['year'], Number_of_unicorns['Company'])\n",
        "plt.xlabel('Year')\n",
        "plt.ylabel('Count of companies')\n",
        "plt.title('Number of Unicorn companies per year')\n",
        "plt.show()"
      ],
      "metadata": {
        "colab": {
          "base_uri": "https://localhost:8080/",
          "height": 472
        },
        "id": "qogN2ARrZmZ-",
        "outputId": "df00b7f2-c5cb-42c7-8c7f-aafb3343021e"
      },
      "execution_count": 21,
      "outputs": [
        {
          "output_type": "display_data",
          "data": {
            "text/plain": [
              "<Figure size 640x480 with 1 Axes>"
            ],
            "image/png": "[encoded data removed]"
          },
          "metadata": {}
        }
      ]
    },
    {
      "cell_type": "markdown",
      "source": [
        "## 4. Top industries with most unicorn companies"
      ],
      "metadata": {
        "id": "hBvxSntKd-Kd"
      }
    },
    {
      "cell_type": "code",
      "source": [
        "By_industry = data.groupby(['Industry']).Company.count().reset_index().sort_values('Company', ascending=False)\n",
        "print(By_industry)"
      ],
      "metadata": {
        "colab": {
          "base_uri": "https://localhost:8080/"
        },
        "id": "gJ6gPXrIdPSG",
        "outputId": "7584fa27-ff7d-4302-a8d5-e7e30eaa0c9a"
      },
      "execution_count": null,
      "outputs": [
        {
          "output_type": "stream",
          "name": "stdout",
          "text": [
            "                               Industry  Company\n",
            "8                               Fintech      224\n",
            "11         Internet software & services      205\n",
            "6       E-commerce & direct-to-consumer      111\n",
            "10                               Health       74\n",
            "1               Artificial intelligence       73\n",
            "13                                Other       58\n",
            "14  Supply chain, logistics, & delivery       57\n",
            "4                         Cybersecurity       50\n",
            "5           Data management & analytics       41\n",
            "12          Mobile & telecommunications       38\n",
            "9                              Hardware       34\n",
            "2                 Auto & transportation       31\n",
            "7                                Edtech       28\n",
            "3                     Consumer & retail       25\n",
            "15                               Travel       14\n",
            "0               Artificial Intelligence       11\n"
          ]
        }
      ]
    },
    {
      "cell_type": "code",
      "source": [
        "plt.scatter(By_industry['Company'], By_industry['Industry'],color='red',marker='^')\n",
        "plt.title('Top industries with most unicorn startups')\n",
        "plt.xlabel('Count of companiea')\n",
        "plt.ylabel('Industry')\n",
        "plt.show()"
      ],
      "metadata": {
        "colab": {
          "base_uri": "https://localhost:8080/",
          "height": 472
        },
        "id": "5Ik2oENUeSeO",
        "outputId": "4dda2b3c-0cc6-4961-fb86-3d3370c97786"
      },
      "execution_count": null,
      "outputs": [
        {
          "output_type": "display_data",
          "data": {
            "text/plain": [
              "<Figure size 640x480 with 1 Axes>"
            ],
            "image/png": "[encoded data removed]"
          },
          "metadata": {}
        }
      ]
    },
    {
      "cell_type": "markdown",
      "source": [
        "## 5. Investors which have funded the most unicorns"
      ],
      "metadata": {
        "id": "yX2NkbJEwdYJ"
      }
    },
    {
      "cell_type": "code",
      "source": [
        "investor_counts = data.groupby('Select Investors')['Company'].count().reset_index(name='Count')\n",
        "investor_counts = investor_counts.sort_values('Count', ascending=False)"
      ],
      "metadata": {
        "id": "zJ3Jtw3TwhQh"
      },
      "execution_count": 99,
      "outputs": []
    },
    {
      "cell_type": "code",
      "source": [
        "top_investors = investor_counts.head(10)\n",
        "plt.bar(top_investors['Select Investors'], top_investors['Count'])\n",
        "plt.xticks(rotation=90)\n",
        "plt.xlabel('Select Investor')\n",
        "plt.ylabel('Number of unicorns funded')\n",
        "plt.title('Top investors in unicorn companies')\n",
        "plt.show()"
      ],
      "metadata": {
        "colab": {
          "base_uri": "https://localhost:8080/",
          "height": 1000
        },
        "id": "LrOEM_bKw3VD",
        "outputId": "d26d2fda-6d57-4000-8487-7e04bc084911"
      },
      "execution_count": 106,
      "outputs": [
        {
          "output_type": "display_data",
          "data": {
            "text/plain": [
              "<Figure size 640x480 with 1 Axes>"
            ],
            "image/png": "[encoded data removed]"
          },
          "metadata": {}
        }
      ]
    },
    {
      "cell_type": "code",
      "source": [],
      "metadata": {
        "id": "w2xDHanKw7ms"
      },
      "execution_count": null,
      "outputs": []
    }
  ]
}